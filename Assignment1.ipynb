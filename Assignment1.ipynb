{
 "cells": [
  {
   "cell_type": "code",
   "execution_count": 15,
   "id": "e12dd178-04f2-4e69-adcc-448fb3a5f17e",
   "metadata": {
    "tags": []
   },
   "outputs": [],
   "source": [
    "import numpy as np\n",
    "import pandas as pd\n",
    "import matplotlib.pyplot as plt\n",
    "import seaborn as sns\n",
    "import math\n",
    "from sklearn.linear_model import LinearRegression"
   ]
  },
  {
   "cell_type": "code",
   "execution_count": 8,
   "id": "efc86b4e-2c87-4e76-8467-cf297791a640",
   "metadata": {
    "tags": []
   },
   "outputs": [],
   "source": [
    "A1 = pd.read_csv('Arrh1.csv')\n",
    "A2 = pd.read_csv('Arrh2.csv')"
   ]
  },
  {
   "cell_type": "code",
   "execution_count": 17,
   "id": "a1ff5d8f-586f-4ff0-8cef-bc1551a9e2c5",
   "metadata": {},
   "outputs": [],
   "source": [
    "A1['ln_k'] = np.log(A1['k [s-1]'])  \n",
    "A1['1/T'] = 1 / A1['T [K]']  \n",
    "\n",
    "x = A1[['1/T']]  \n",
    "y = A1['ln_k']      \n",
    "model = LinearRegression().fit(x, y)\n",
    "\n",
    "slope = model.coef_[0]\n",
    "intercept = model.intercept_\n",
    "\n",
    "R = 8.314 \n",
    "Ea = -slope * R / 1000  "
   ]
  },
  {
   "cell_type": "code",
   "execution_count": null,
   "id": "47469871-5c9a-4859-9db3-da3bae31a1e0",
   "metadata": {
    "tags": []
   },
   "outputs": [],
   "source": []
  },
  {
   "cell_type": "code",
   "execution_count": null,
   "id": "31cf8c18-00b2-4e52-89fe-23d26df82502",
   "metadata": {},
   "outputs": [],
   "source": []
  }
 ],
 "metadata": {
  "kernelspec": {
   "display_name": "Python 3 (ipykernel)",
   "language": "python",
   "name": "python3"
  },
  "language_info": {
   "codemirror_mode": {
    "name": "ipython",
    "version": 3
   },
   "file_extension": ".py",
   "mimetype": "text/x-python",
   "name": "python",
   "nbconvert_exporter": "python",
   "pygments_lexer": "ipython3",
   "version": "3.11.4"
  }
 },
 "nbformat": 4,
 "nbformat_minor": 5
}
