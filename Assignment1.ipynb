{
 "cells": [
  {
   "cell_type": "code",
   "execution_count": 2,
   "id": "e12dd178-04f2-4e69-adcc-448fb3a5f17e",
   "metadata": {
    "tags": []
   },
   "outputs": [],
   "source": [
    "import numpy as np\n",
    "import pandas as pd\n",
    "import matplotlib.pyplot as plt\n",
    "import seaborn as sns\n",
    "import math"
   ]
  },
  {
   "cell_type": "code",
   "execution_count": 4,
   "id": "efc86b4e-2c87-4e76-8467-cf297791a640",
   "metadata": {
    "tags": []
   },
   "outputs": [],
   "source": [
    "Arr1 = pd.read_csv('Arrh1.csv')\n",
    "Arr2 = pd.read_csv('Arrh2.csv'\""
   ]
  },
  {
   "cell_type": "code",
   "execution_count": null,
   "id": "a1ff5d8f-586f-4ff0-8cef-bc1551a9e2c5",
   "metadata": {},
   "outputs": [],
   "source": []
  }
 ],
 "metadata": {
  "kernelspec": {
   "display_name": "Python 3 (ipykernel)",
   "language": "python",
   "name": "python3"
  },
  "language_info": {
   "codemirror_mode": {
    "name": "ipython",
    "version": 3
   },
   "file_extension": ".py",
   "mimetype": "text/x-python",
   "name": "python",
   "nbconvert_exporter": "python",
   "pygments_lexer": "ipython3",
   "version": "3.11.4"
  }
 },
 "nbformat": 4,
 "nbformat_minor": 5
}
